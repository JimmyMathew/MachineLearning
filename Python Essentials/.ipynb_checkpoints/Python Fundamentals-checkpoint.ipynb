{
 "cells": [
  {
   "cell_type": "code",
   "execution_count": 8,
   "metadata": {},
   "outputs": [
    {
     "name": "stdout",
     "output_type": "stream",
     "text": [
      "11.788\n"
     ]
    },
    {
     "data": {
      "text/plain": [
       "str"
      ]
     },
     "execution_count": 8,
     "metadata": {},
     "output_type": "execute_result"
    }
   ],
   "source": [
    "#Variables\n",
    "intVar = 32\n",
    "strVar = \"Jimmy Mathew\"\n",
    "flotVar = 11.788\n",
    "print(flotVar)\n",
    "type(strVar)"
   ]
  },
  {
   "cell_type": "code",
   "execution_count": 21,
   "metadata": {},
   "outputs": [
    {
     "name": "stdout",
     "output_type": "stream",
     "text": [
      "Jimmy\n"
     ]
    },
    {
     "data": {
      "text/plain": [
       "numpy.ndarray"
      ]
     },
     "execution_count": 21,
     "metadata": {},
     "output_type": "execute_result"
    }
   ],
   "source": [
    "#Lists and Arrays\n",
    "\n",
    "#Lists\n",
    "primeNumbers = [3,7,61,29]\n",
    "mixedList = [1,2,\"Jimmy\",3,\"Mathew\"]\n",
    "type(primeNumbers)\n",
    "print(mixedList[2])\n",
    "\n",
    "#Arrays\n",
    "import array as arr\n",
    "primeNumbersArray = arr.array(\"i\",[3,7,61,29])\n",
    "type(primeNumbersArray)\n",
    "import numpy as np\n",
    "newPrimeNumbersArray = np.array([\"numbers\",3,7,61,29])\n",
    "type(newPrimeNumbersArray)"
   ]
  },
  {
   "cell_type": "code",
   "execution_count": 48,
   "metadata": {},
   "outputs": [
    {
     "name": "stdout",
     "output_type": "stream",
     "text": [
      "   Time_Delay_in_Minutes  LSD_ppm  Avg_Math_Test_Score\n",
      "0                      5     1.17                78.93\n",
      "1                     15     2.97                58.20\n",
      "2                     30     3.26                67.47\n",
      "3                     60     4.69                37.47\n",
      "4                    120     5.83                45.65\n",
      "5                    240     6.00                32.92\n",
      "6                    480     6.41                29.97\n",
      "   Time_Delay_in_Minutes  LSD_ppm  Avg_Math_Test_Score  Test Subject  \\\n",
      "0                      5     1.17                78.93  Jimmy Mathew   \n",
      "1                     15     2.97                58.20  Jimmy Mathew   \n",
      "2                     30     3.26                67.47  Jimmy Mathew   \n",
      "3                     60     4.69                37.47  Jimmy Mathew   \n",
      "4                    120     5.83                45.65  Jimmy Mathew   \n",
      "5                    240     6.00                32.92  Jimmy Mathew   \n",
      "6                    480     6.41                29.97  Jimmy Mathew   \n",
      "\n",
      "   High Score  \n",
      "0  32015.9449  \n",
      "1  25027.2400  \n",
      "2  28046.2009  \n",
      "3  18898.0009  \n",
      "4  21213.9225  \n",
      "5  17667.7264  \n",
      "6  16892.2009  \n",
      "   LSD_ppm  Avg_Math_Test_Score\n",
      "0     1.17                78.93\n",
      "1     2.97                58.20\n",
      "2     3.26                67.47\n",
      "3     4.69                37.47\n",
      "4     5.83                45.65\n",
      "5     6.00                32.92\n",
      "6     6.41                29.97\n",
      "   Time_Delay_in_Minutes  LSD_ppm  Avg_Math_Test_Score  High Score\n",
      "0                      5     1.17                78.93  32015.9449\n",
      "1                     15     2.97                58.20  25027.2400\n",
      "2                     30     3.26                67.47  28046.2009\n",
      "3                     60     4.69                37.47  18898.0009\n",
      "4                    120     5.83                45.65  21213.9225\n",
      "5                    240     6.00                32.92  17667.7264\n",
      "6                    480     6.41                29.97  16892.2009\n"
     ]
    }
   ],
   "source": [
    "#Data Frames and Series\n",
    "#Data Frames\n",
    "import pandas as pd \n",
    "data = pd.read_csv(\"lsd_math_score_data.csv\")\n",
    "print(data)\n",
    "type(data)\n",
    "onlyMathScore = data['Avg_Math_Test_Score']\n",
    "data['Avg_Math_Test_Score'][0]\n",
    "#print(onlyMathScore)\n",
    "data['Test Subject'] = 'Jimmy Mathew'\n",
    "#print(data)\n",
    "data['High Score'] = 100\n",
    "data['High Score'] = data['High Score'] + data['Avg_Math_Test_Score']\n",
    "data['High Score'] = data['High Score'] ** 2 #To the power of 2 or square\n",
    "print(data)\n",
    "\n",
    "#Series\n",
    "type(onlyMathScore)\n",
    "subSetofDF = data[['LSD_ppm','Avg_Math_Test_Score']] #Subset from the dataframes\n",
    "#The minor difference in syntax is shown in the below 2 lines\n",
    "series = data['Avg_Math_Test_Score']\n",
    "dataFrame = data[['Avg_Math_Test_Score']]\n",
    "print(subSetofDF)\n",
    "type(subSetofDF)\n",
    "\n",
    "#Delete a column from Data Frame\n",
    "del data['Test Subject']\n",
    "print(data)"
   ]
  },
  {
   "cell_type": "code",
   "execution_count": 3,
   "metadata": {},
   "outputs": [
    {
     "name": "stdout",
     "output_type": "stream",
     "text": [
      "3.141592653589793\n",
      "2.718281828459045\n"
     ]
    }
   ],
   "source": [
    "#ModulesImport\n",
    "import math\n",
    "print(math.pi)\n",
    "print(math.e)"
   ]
  },
  {
   "cell_type": "code",
   "execution_count": 10,
   "metadata": {},
   "outputs": [
    {
     "name": "stdout",
     "output_type": "stream",
     "text": [
      "2\n",
      "4\n",
      "25\n"
     ]
    }
   ],
   "source": [
    " #Functions\n",
    "def add(x,y):\n",
    "    answer = x + y\n",
    "    return answer\n",
    "def multiply(x=5,y=5):\n",
    "    answer = x * y\n",
    "    return answer\n",
    "print(add(1,1))\n",
    "print(multiply(x=2,y=2))\n",
    "print(multiply())"
   ]
  },
  {
   "cell_type": "code",
   "execution_count": 50,
   "metadata": {},
   "outputs": [
    {
     "name": "stdout",
     "output_type": "stream",
     "text": [
      "     Name  Age\n",
      "0   Jimmy   26\n",
      "1    Joji   22\n",
      "2  Mathew   62\n",
      "3   Molly   59\n"
     ]
    }
   ],
   "source": [
    "#Classes and Objects\n",
    "import pandas as pd\n",
    "\n",
    "class Person:\n",
    "    def __init__(self, name, age):\n",
    "        self.name = name\n",
    "        self.age = age\n",
    "        \n",
    "    def print_person(self):\n",
    "        persons = {'Name': self.name,\n",
    "        'Age': self.age\n",
    "        }\n",
    "        df = pd.DataFrame(persons, columns = ['Name', 'Age'])\n",
    "        print(df)\n",
    "              \n",
    "p1 = Person(['Jimmy','Joji','Mathew','Molly'],[26,22,62,59])\n",
    "p1.print_person()"
   ]
  },
  {
   "cell_type": "code",
   "execution_count": null,
   "metadata": {},
   "outputs": [],
   "source": []
  },
  {
   "cell_type": "code",
   "execution_count": null,
   "metadata": {},
   "outputs": [],
   "source": []
  }
 ],
 "metadata": {
  "kernelspec": {
   "display_name": "Python 3",
   "language": "python",
   "name": "python3"
  },
  "language_info": {
   "codemirror_mode": {
    "name": "ipython",
    "version": 3
   },
   "file_extension": ".py",
   "mimetype": "text/x-python",
   "name": "python",
   "nbconvert_exporter": "python",
   "pygments_lexer": "ipython3",
   "version": "3.7.6"
  }
 },
 "nbformat": 4,
 "nbformat_minor": 4
}
