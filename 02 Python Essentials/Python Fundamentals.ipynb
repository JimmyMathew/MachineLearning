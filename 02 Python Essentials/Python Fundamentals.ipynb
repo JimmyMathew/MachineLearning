{
 "cells": [
  {
   "cell_type": "code",
   "execution_count": null,
   "metadata": {},
   "outputs": [],
   "source": [
    "#Variables\n",
    "intVar = 32\n",
    "strVar = \"Jimmy Mathew\"\n",
    "flotVar = 11.788\n",
    "print(flotVar)\n",
    "type(strVar)"
   ]
  },
  {
   "cell_type": "code",
   "execution_count": null,
   "metadata": {},
   "outputs": [],
   "source": [
    "#Lists and Arrays\n",
    "\n",
    "#Lists\n",
    "primeNumbers = [3,7,61,29]\n",
    "mixedList = [1,2,\"Jimmy\",3,\"Mathew\"]\n",
    "type(primeNumbers)\n",
    "print(mixedList[2])\n",
    "\n",
    "#Arrays\n",
    "import array as arr\n",
    "primeNumbersArray = arr.array(\"i\",[3,7,61,29])\n",
    "type(primeNumbersArray)\n",
    "import numpy as np\n",
    "newPrimeNumbersArray = np.array([\"numbers\",3,7,61,29])\n",
    "type(newPrimeNumbersArray)"
   ]
  },
  {
   "cell_type": "code",
   "execution_count": null,
   "metadata": {},
   "outputs": [],
   "source": [
    "#Data Frames and Series\n",
    "#Data Frames\n",
    "import pandas as pd \n",
    "data = pd.read_csv(\"lsd_math_score_data.csv\")\n",
    "print(data)\n",
    "type(data)\n",
    "onlyMathScore = data['Avg_Math_Test_Score']\n",
    "data['Avg_Math_Test_Score'][0]\n",
    "#print(onlyMathScore)\n",
    "data['Test Subject'] = 'Jimmy Mathew'\n",
    "#print(data)\n",
    "data['High Score'] = 100\n",
    "data['High Score'] = data['High Score'] + data['Avg_Math_Test_Score']\n",
    "data['High Score'] = data['High Score'] ** 2 #To the power of 2 or square\n",
    "print(data)\n",
    "\n",
    "#Series\n",
    "type(onlyMathScore)\n",
    "subSetofDF = data[['LSD_ppm','Avg_Math_Test_Score']] #Subset from the dataframes\n",
    "#The minor difference in syntax is shown in the below 2 lines\n",
    "series = data['Avg_Math_Test_Score']\n",
    "dataFrame = data[['Avg_Math_Test_Score']]\n",
    "print(subSetofDF)\n",
    "type(subSetofDF)\n",
    "\n",
    "#Delete a column from Data Frame\n",
    "del data['Test Subject']\n",
    "print(data)"
   ]
  },
  {
   "cell_type": "code",
   "execution_count": null,
   "metadata": {},
   "outputs": [],
   "source": [
    "#ModulesImport\n",
    "import math\n",
    "print(math.pi)\n",
    "print(math.e)"
   ]
  },
  {
   "cell_type": "code",
   "execution_count": null,
   "metadata": {},
   "outputs": [],
   "source": [
    " #Functions\n",
    "def add(x,y):\n",
    "    answer = x + y\n",
    "    return answer\n",
    "def multiply(x=5,y=5):\n",
    "    answer = x * y\n",
    "    return answer\n",
    "print(add(1,1))\n",
    "print(multiply(x=2,y=2))\n",
    "print(multiply())"
   ]
  },
  {
   "cell_type": "code",
   "execution_count": null,
   "metadata": {},
   "outputs": [],
   "source": [
    "#Classes and Objects\n",
    "import pandas as pd\n",
    "\n",
    "class Person:\n",
    "    def __init__(self, name, age):\n",
    "        self.name = name\n",
    "        self.age = age\n",
    "        \n",
    "    def print_person(self):\n",
    "        persons = {'Name': self.name,\n",
    "        'Age': self.age\n",
    "        }\n",
    "        df = pd.DataFrame(persons, columns = ['Name', 'Age'])\n",
    "        print(df)\n",
    "              \n",
    "p1 = Person(['Jimmy','Joji','Mathew','Molly'],[26,22,62,59])\n",
    "p1.print_person()"
   ]
  },
  {
   "cell_type": "code",
   "execution_count": 6,
   "metadata": {},
   "outputs": [
    {
     "name": "stdout",
     "output_type": "stream",
     "text": [
      "For\n",
      "For\n",
      "For\n",
      "For\n",
      "For\n",
      "While\n",
      "While\n",
      "While\n",
      "While\n",
      "While\n"
     ]
    }
   ],
   "source": [
    "#Loops\n",
    "for i in range(5):\n",
    "    print(\"For\")\n",
    "\n",
    "count=0\n",
    "while count < 5:\n",
    "    print(\"While\")\n",
    "    count = count + 1"
   ]
  },
  {
   "cell_type": "code",
   "execution_count": null,
   "metadata": {},
   "outputs": [],
   "source": []
  }
 ],
 "metadata": {
  "kernelspec": {
   "display_name": "Python 3",
   "language": "python",
   "name": "python3"
  }
 },
 "nbformat": 4,
 "nbformat_minor": 4
}
